{
 "cells": [
  {
   "cell_type": "markdown",
   "metadata": {},
   "source": [
    "# Import things"
   ]
  },
  {
   "cell_type": "code",
   "execution_count": 8,
   "metadata": {
    "collapsed": true
   },
   "outputs": [],
   "source": [
    "import sys\n",
    "import os"
   ]
  },
  {
   "cell_type": "code",
   "execution_count": 6,
   "metadata": {},
   "outputs": [],
   "source": [
    "sys.path.insert(0, 'Tools/')\n",
    "%reload_ext autoreload\n",
    "%autoreload 2\n",
    "from data_prep import *"
   ]
  },
  {
   "cell_type": "markdown",
   "metadata": {},
   "source": [
    "# Load data"
   ]
  },
  {
   "cell_type": "code",
   "execution_count": 10,
   "metadata": {},
   "outputs": [
    {
     "name": "stdout",
     "output_type": "stream",
     "text": [
      "found files :/57576-0.txt\n",
      "found files :/57573-0.txt\n",
      "found files :/57582-0.txt\n",
      "found files :/57577-0.txt\n",
      "found files :/57574-0.txt\n",
      "found files :/57583-0.txt\n",
      "found files :/57575-0.txt\n",
      "found files :/57580-0.txt\n"
     ]
    }
   ],
   "source": [
    "overview_selected_files(\"Data/\", \"txt\")"
   ]
  },
  {
   "cell_type": "code",
   "execution_count": 11,
   "metadata": {},
   "outputs": [
    {
     "name": "stdout",
     "output_type": "stream",
     "text": [
      "['Data/57576-0.txt', 'Data/57573-0.txt', 'Data/57582-0.txt', 'Data/57577-0.txt', 'Data/57574-0.txt', 'Data/57583-0.txt', 'Data/57575-0.txt', 'Data/57580-0.txt']\n"
     ]
    }
   ],
   "source": [
    "paths = paths_selected_files(\"Data/\", \"txt\")"
   ]
  },
  {
   "cell_type": "code",
   "execution_count": 12,
   "metadata": {},
   "outputs": [
    {
     "name": "stdout",
     "output_type": "stream",
     "text": [
      "Book #0 has a word length of 55775\n",
      "Book #1 has a word length of 788473\n",
      "Book #2 has a word length of 142117\n",
      "Book #3 has a word length of 196653\n",
      "Book #4 has a word length of 265316\n",
      "Book #5 has a word length of 191917\n",
      "Book #6 has a word length of 645779\n",
      "Book #7 has a word length of 623478\n"
     ]
    }
   ],
   "source": [
    "book_list = open_book_list(paths)"
   ]
  },
  {
   "cell_type": "markdown",
   "metadata": {},
   "source": [
    "# Prepare/clean data"
   ]
  },
  {
   "cell_type": "code",
   "execution_count": null,
   "metadata": {},
   "outputs": [],
   "source": []
  },
  {
   "cell_type": "code",
   "execution_count": null,
   "metadata": {},
   "outputs": [],
   "source": []
  },
  {
   "cell_type": "code",
   "execution_count": null,
   "metadata": {},
   "outputs": [],
   "source": []
  }
 ],
 "metadata": {
  "kernelspec": {
   "display_name": "Python 3",
   "language": "python",
   "name": "python3"
  },
  "language_info": {
   "codemirror_mode": {
    "name": "ipython",
    "version": 3
   },
   "file_extension": ".py",
   "mimetype": "text/x-python",
   "name": "python",
   "nbconvert_exporter": "python",
   "pygments_lexer": "ipython3",
   "version": "3.5.2"
  }
 },
 "nbformat": 4,
 "nbformat_minor": 2
}
